{
 "cells": [
  {
   "cell_type": "markdown",
   "metadata": {
    "collapsed": true,
    "pycharm": {
     "name": "#%% md\n"
    }
   },
   "source": [
    "## K-Means Clustering\n",
    "\n",
    "The idea of this notebook is to learn an unsupervised model capable of separating groups of mobile phones\n",
    "into several categories, e.g. k=5 categories. We then compare these clusters with the hypothesized models\n",
    "from other supervised learners, e.g. DT's and Multiple-Regression models.\n",
    "\n",
    "We can also test whether it splits the clusters in a way that resembles the pricing categories directly, i.e.\n",
    "simply putting in the test examples and seeing what cluster the model outputs.\n",
    "\n",
    "Two different datasets will be used, the one from GSMArena and another one simply based on technical specifications.\n",
    "To test the tech-spec only dataset, we'll put the inputs into an ensemble model and predict its price, then\n",
    "input it into the k-means cluster and inspect which cluster it ended up in."
   ]
  },
  {
   "cell_type": "code",
   "execution_count": 1,
   "outputs": [
    {
     "output_type": "error",
     "ename": "NameError",
     "evalue": "name 'pd' is not defined",
     "traceback": [
      "\u001b[0;31m---------------------------------------------------------------------------\u001b[0m",
      "\u001b[0;31mNameError\u001b[0m                                 Traceback (most recent call last)",
      "\u001b[0;32m<ipython-input-1-deb543633899>\u001b[0m in \u001b[0;36m<module>\u001b[0;34m\u001b[0m\n\u001b[1;32m      2\u001b[0m \u001b[0;34m\u001b[0m\u001b[0m\n\u001b[1;32m      3\u001b[0m \u001b[0;31m# Load up dataset 1: gsmarena\u001b[0m\u001b[0;34m\u001b[0m\u001b[0;34m\u001b[0m\u001b[0;34m\u001b[0m\u001b[0m\n\u001b[0;32m----> 4\u001b[0;31m \u001b[0mdata\u001b[0m \u001b[0;34m=\u001b[0m \u001b[0mpd\u001b[0m\u001b[0;34m.\u001b[0m\u001b[0mread_csv\u001b[0m\u001b[0;34m(\u001b[0m\u001b[0;34m'dataset/GSMArena_dataset_2020.csv'\u001b[0m\u001b[0;34m,\u001b[0m \u001b[0mindex_col\u001b[0m\u001b[0;34m=\u001b[0m\u001b[0;36m0\u001b[0m\u001b[0;34m)\u001b[0m\u001b[0;34m\u001b[0m\u001b[0;34m\u001b[0m\u001b[0m\n\u001b[0m\u001b[1;32m      5\u001b[0m \u001b[0;34m\u001b[0m\u001b[0m\n\u001b[1;32m      6\u001b[0m \u001b[0;34m\u001b[0m\u001b[0m\n",
      "\u001b[0;31mNameError\u001b[0m: name 'pd' is not defined"
     ]
    }
   ],
   "source": [
    "from auxiliary import data_clean2\n",
    "import pandas as pd\n",
    "from sklearn.preprocessing import train_test_split\n",
    "\n",
    "# Load up dataset 1: gsmarena\n",
    "data = pd.read_csv('dataset/GSMArena_dataset_2020.csv', index_col=0)\n",
    "\n",
    "\n",
    "\n",
    "# Load up dataset 2: agggregated specs\n",
    "\n",
    "# Clean dataset 1\n",
    "\n",
    "# Clean dataset 2\n",
    "\n",
    "# load utilities\n",
    "from sklearn.model_selection import train_test_split\n",
    "\n",
    "# Split data into train, test\n",
    "X, y = []\n",
    "X_train, X_test, y_train, y_test = train_test_split(X, y, test_size=.4, random_state=0)\n",
    "\n",
    "\n"
   ],
   "metadata": {
    "collapsed": false,
    "pycharm": {
     "name": "#%%\n"
    }
   }
  },
  {
   "cell_type": "markdown",
   "source": [
    "#### SkLearn's K-Means Model\n",
    "\n",
    "As always, the idea is to use algorithms from sklearn or another library as a baseline before writing our own\n",
    "algorithms in a more fine-tuned and streamlined manner."
   ],
   "metadata": {
    "collapsed": false,
    "pycharm": {
     "name": "#%% md\n"
    }
   }
  },
  {
   "cell_type": "code",
   "execution_count": null,
   "outputs": [],
   "source": [
    "from sklearn.cluster import k_means\n",
    "\n",
    "# Train the model\n",
    "clf = k_means(n_clusters=5, random_state=0).fit(X_train)\n",
    "\n",
    "# Get the centres of each cluster\n",
    "print(clf.cluster_centers_)\n",
    "\n",
    "# Utility for k-fold cross validation\n",
    "from sklearn.model_selection import cross_val_score\n",
    "\n",
    "# iterate 4 times\n",
    "scores = cross_val_score(clf, X, y, cv=4)\n",
    "\n",
    "# Prelim. plots\n",
    "\n",
    "\n"
   ],
   "metadata": {
    "collapsed": false,
    "pycharm": {
     "name": "#%%\n"
    }
   }
  }
 ],
 "metadata": {
  "kernelspec": {
   "display_name": "Python 3",
   "language": "python",
   "name": "python3"
  },
  "language_info": {
   "codemirror_mode": {
    "name": "ipython",
    "version": 2
   },
   "file_extension": ".py",
   "mimetype": "text/x-python",
   "name": "python",
   "nbconvert_exporter": "python",
   "pygments_lexer": "ipython2",
   "version": "3.8.0-final"
  }
 },
 "nbformat": 4,
 "nbformat_minor": 0
}