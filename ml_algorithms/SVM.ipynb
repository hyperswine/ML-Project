{
 "cells": [
  {
   "cell_type": "markdown",
   "metadata": {
    "collapsed": true,
    "pycharm": {
     "name": "#%% md\n"
    }
   },
   "source": [
    "## Support Vector Machines\n",
    "\n",
    "Since the data isn't in entirely the best form, e.g. missing values, unordered values, makes it quite difficult to simply\n",
    "plug the values into a label encoder. The fact that there are also a considerable number of features (~20), and the corresponding\n",
    "number of examples are low (700-800), it makes sense to test SVM's with different kernels and inspect its performance.\n",
    "\n",
    "This will thus better deal with high variance and deal with bias implicitly."
   ]
  },
  {
   "cell_type": "code",
   "execution_count": null,
   "outputs": [],
   "source": [
    "# Load scripts to clean and generate data\n",
    "from .auxiliary import data_clean, validator\n",
    "\n",
    "\n",
    "# Load up dataset\n",
    "\n",
    "# Pre-process data, encode categorical data. (Note: already done in data_clean.py)\n",
    "\n",
    "# Set up first train-test set\n",
    "X_train, y_train, X_test, y_test = []\n"
   ],
   "metadata": {
    "collapsed": false,
    "pycharm": {
     "name": "#%%\n"
    }
   }
  },
  {
   "cell_type": "markdown",
   "source": [
    "#### Learning the SVM\n",
    "\n",
    "Using sk-learn, it is possible to plug in the data and fit a model.\n",
    "Most of the kernel functions will be tested with 4-F cross-validation."
   ],
   "metadata": {
    "collapsed": false,
    "pycharm": {
     "name": "#%% md\n"
    }
   }
  },
  {
   "cell_type": "code",
   "execution_count": null,
   "outputs": [],
   "source": [
    "from sklearn import svm\n",
    "\n",
    "# Load up the SVM classifier\n",
    "clf = svm.SVC()\n",
    "clf.fit(X_train,y_train)\n"
   ],
   "metadata": {
    "collapsed": false,
    "pycharm": {
     "name": "#%%\n"
    }
   }
  },
  {
   "cell_type": "markdown",
   "source": [
    "#### Analyzing the model and results\n",
    "\n",
    "As seen, we have fitted a preliminary SVM model to the training data.\n",
    "Using matplotlib & seaborn, it is possible to visualize the model & preliminary performance.\n"
   ],
   "metadata": {
    "collapsed": false,
    "pycharm": {
     "name": "#%% md\n"
    }
   }
  },
  {
   "cell_type": "code",
   "execution_count": null,
   "outputs": [],
   "source": [
    "# matplotlib\n",
    "\n",
    "\n",
    "# sns\n"
   ],
   "metadata": {
    "collapsed": false,
    "pycharm": {
     "name": "#%%\n"
    }
   }
  },
  {
   "cell_type": "markdown",
   "source": [
    "#### Cross-Validation & Performance Tuning\n",
    "\n",
    "As one may see, the preliminary performance is a considerable [improvement] to the LR mode.\n",
    "By tuning some more parameters & using different kernel functions, it may be possible to further increase the training & testing\n",
    "performance.\n",
    "\n",
    "We now investigate kernel functions, [], [], []"
   ],
   "metadata": {
    "collapsed": false,
    "pycharm": {
     "name": "#%% md\n"
    }
   }
  },
  {
   "cell_type": "code",
   "execution_count": null,
   "outputs": [],
   "source": [
    "# Kernel function [1]\n",
    "\n",
    "# 4-F Cross-Validation on [1]\n",
    "\n",
    "# Performance Insights\n",
    "\n",
    "\n",
    "\n",
    "# Kernel function [2]\n",
    "\n",
    "# 4-F Cross-Validation on [2]\n",
    "\n",
    "# Performance Insights\n",
    "\n",
    "\n",
    "\n",
    "# Kernel function [3]\n",
    "\n",
    "# 4-F Cross-Validation on [2]\n",
    "\n",
    "# Performance Insights\n",
    "\n"
   ],
   "metadata": {
    "collapsed": false,
    "pycharm": {
     "name": "#%%\n"
    }
   }
  },
  {
   "cell_type": "markdown",
   "source": [
    "#### Plots & Analysis of different Kernel methods\n",
    "\n",
    "[Write Here]\n",
    "\n",
    "\n"
   ],
   "metadata": {
    "collapsed": false,
    "pycharm": {
     "name": "#%% md\n"
    }
   }
  }
 ],
 "metadata": {
  "kernelspec": {
   "display_name": "Python 3",
   "language": "python",
   "name": "python3"
  },
  "language_info": {
   "codemirror_mode": {
    "name": "ipython",
    "version": 2
   },
   "file_extension": ".py",
   "mimetype": "text/x-python",
   "name": "python",
   "nbconvert_exporter": "python",
   "pygments_lexer": "ipython2",
   "version": "2.7.6"
  }
 },
 "nbformat": 4,
 "nbformat_minor": 0
}