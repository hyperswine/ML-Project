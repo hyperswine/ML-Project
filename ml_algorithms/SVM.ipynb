{
 "cells": [
  {
   "cell_type": "markdown",
   "metadata": {
    "collapsed": true,
    "pycharm": {
     "name": "#%% md\n"
    }
   },
   "source": [
    "## Support Vector Machines\n",
    "\n",
    "Since the data isn't in entirely the best form, e.g. missing values, unordered values, makes it quite difficult to simply\n",
    "plug the values into a label encoder. The fact that there are also a considerable number of features (~20), and the corresponding\n",
    "number of examples are low (700-800), it makes sense to test SVM's with different kernels and inspect its performance.\n",
    "\n",
    "This will thus better deal with high variance and deal with bias implicitly."
   ]
  },
  {
   "cell_type": "code",
   "execution_count": null,
   "outputs": [],
   "source": [
    "\n",
    "# Load scripts to clean and generate data\n",
    "# noinspection PyUnresolvedReferences\n",
    "from auxiliary.data_clean2 import clean_data\n",
    "import pandas as pd\n",
    "import numpy as np\n",
    "\n",
    "data = pd.read_csv('dataset/GSMArena_dataset_2020.csv', index_col=0)\n",
    "\n",
    "data_features = data[[\"oem\", \"launch_announced\", \"launch_status\", \"body_dimensions\", \"display_size\", \"comms_wlan\", \"comms_usb\",\n",
    "                \"features_sensors\", \"platform_os\", \"platform_cpu\", \"platform_gpu\", \"memory_internal\",\n",
    "                \"main_camera_single\", \"main_camera_video\", \"misc_price\",\n",
    "                \"selfie_camera_video\",\n",
    "                \"selfie_camera_single\", \"battery\"]]\n",
    "\n",
    "# Clean up the data into a trainable form.\n",
    "df = clean_data(data_features)\n"
   ],
   "metadata": {
    "collapsed": false,
    "pycharm": {
     "name": "#%%\n"
    }
   }
  },
  {
   "cell_type": "markdown",
   "source": [
    "#### Learning the SVM\n",
    "\n",
    "Using sk-learn, it is possible to plug in the data and fit a model.\n",
    "Most of the kernel functions will be tested with 4-F cross-validation."
   ],
   "metadata": {
    "collapsed": false,
    "pycharm": {
     "name": "#%% md\n"
    }
   }
  },
  {
   "cell_type": "code",
   "execution_count": null,
   "metadata": {},
   "outputs": [],
   "source": [
    "def y_classify_five(y):\n",
    "    if y>1000:\n",
    "        return 4\n",
    "    elif y>700 and y<=1000:\n",
    "        return 3\n",
    "    elif y>450 and y<=700:\n",
    "        return 2\n",
    "    elif y>200 and y<=450:\n",
    "        return 1\n",
    "    \n",
    "    return 0\n",
    "\n",
    "\n",
    "def y_classify(y):\n",
    "    if y>700:\n",
    "        return 2\n",
    "    elif y>=300 and y<=700:\n",
    "        return 1\n",
    "    \n",
    "    return 0\n",
    "    "
   ]
  },
  {
   "cell_type": "code",
   "execution_count": null,
   "outputs": [],
   "source": [
    "# Now its time to split the data\n",
    "from sklearn.model_selection import train_test_split\n",
    "\n",
    "y = df[\"misc_price\"]\n",
    "y3 = y.apply(y_classify)\n",
    "X = df.drop([\"key_index\", \"misc_price\"], axis=1)\n",
    "\n",
    "X_train, X_test, y_train, y_test = train_test_split(X, y3, random_state=120, test_size=.3)\n",
    "\n",
    "y5 = y.apply(y_classify_five)\n",
    "X_train5, X_test5, y_train5, y_test5 = train_test_split(X, y5, random_state=120, test_size=.3)\n"
   ],
   "metadata": {
    "collapsed": false,
    "pycharm": {
     "name": "#%%\n"
    }
   }
  },
  {
   "cell_type": "code",
   "execution_count": null,
   "metadata": {},
   "outputs": [],
   "source": [
    "from sklearn.svm import SVC\n",
    "from sklearn.pipeline import make_pipeline\n",
    "from sklearn.preprocessing import StandardScaler\n",
    "from sklearn.metrics import accuracy_score\n",
    "\n",
    "svm_clf = make_pipeline(StandardScaler(), SVC(gamma='auto'))\n",
    "svm_clf.fit(X_train,y_train)\n",
    "\n",
    "y_pred = svm_clf.predict(X_test)\n",
    "print(\"3 class accuracy: \", accuracy_score(y_test,y_pred))\n",
    "\n",
    "svm_clf.fit(X_train5,y_train5)\n",
    "\n",
    "y_pred5 = svm_clf.predict(X_test5)\n",
    "print(\"5 class accuracy: \", accuracy_score(y_test5,y_pred5))\n"
   ]
  },
  {
   "cell_type": "markdown",
   "source": [
    "#### Analyzing the model and results\n",
    "\n",
    "As seen, we have fitted a preliminary SVM model to the training data.\n",
    "Using matplotlib, it is possible to visualize the model & preliminary performance.\n"
   ],
   "metadata": {
    "collapsed": false,
    "pycharm": {
     "name": "#%% md\n"
    }
   }
  },
  {
   "cell_type": "code",
   "execution_count": null,
   "outputs": [],
   "source": [
    "# matplotlib\n",
    "\n",
    "\n"
   ],
   "metadata": {
    "collapsed": false,
    "pycharm": {
     "name": "#%%\n"
    }
   }
  },
  {
   "cell_type": "markdown",
   "source": [
    "#### Cross-Validation & Performance Tuning\n",
    "\n",
    "We now implement our own SVM using the dual lagragian with hinge loss. We then test all the possible kernel mappings, linear, polynomial, euclidean, sigmoid.\n",
    "\n",
    "As one may see, the preliminary performance is a considerable [improvement] to the LR model.\n",
    "\n",
    "By tuning some more parameters & using different kernel functions, it may be possible to further increase the training & testing performance."
   ],
   "metadata": {
    "collapsed": false,
    "pycharm": {
     "name": "#%% md\n"
    }
   }
  },
  {
   "cell_type": "code",
   "execution_count": null,
   "metadata": {},
   "outputs": [],
   "source": [
    "class HyperSVM:\n",
    "    \"\"\"\n",
    "    A support-vector machine with multiple kernel mappings for high \n",
    "    dimensions & hinge loss. \n",
    "    \"\"\"\n",
    "    def __init__(self, dual=True):\n",
    "        self.dual = dual\n",
    "\n",
    "    def fit(self, X, y):\n",
    "        pass\n",
    "    \n",
    "    def partial_lagrangian(self, L, var):\n",
    "        \"\"\"\n",
    "        Calculates the partial lagriangian derivative with respect to var.\n",
    "        Minimizes hinge loss -> maximizes dual.\n",
    "        \"\"\"\n",
    "        pass\n",
    "\n",
    "    def predict(self, X):\n",
    "        pass\n",
    "    \n",
    "    def performance(self):\n",
    "        pass\n"
   ]
  },
  {
   "cell_type": "code",
   "execution_count": null,
   "outputs": [],
   "source": [
    "# Kernel function [1]\n",
    "\n",
    "# 4-F Cross-Validation on [1]\n",
    "\n",
    "# Performance Insights\n",
    "\n",
    "\n",
    "\n",
    "# Kernel function [2]\n",
    "\n",
    "# 4-F Cross-Validation on [2]\n",
    "\n",
    "# Performance Insights\n",
    "\n",
    "\n",
    "\n",
    "# Kernel function [3]\n",
    "\n",
    "# 4-F Cross-Validation on [2]\n",
    "\n",
    "# Performance Insights\n",
    "\n"
   ],
   "metadata": {
    "collapsed": false,
    "pycharm": {
     "name": "#%%\n"
    }
   }
  },
  {
   "cell_type": "markdown",
   "source": [
    "#### Plots & Analysis of different Kernel methods\n",
    "\n",
    "[Write Here]\n",
    "\n",
    "\n"
   ],
   "metadata": {
    "collapsed": false,
    "pycharm": {
     "name": "#%% md\n"
    }
   }
  }
 ],
 "metadata": {
  "kernelspec": {
   "display_name": "Python 3",
   "language": "python",
   "name": "python3"
  },
  "language_info": {
   "codemirror_mode": {
    "name": "ipython",
    "version": 2
   },
   "file_extension": ".py",
   "mimetype": "text/x-python",
   "name": "python",
   "nbconvert_exporter": "python",
   "pygments_lexer": "ipython2",
   "version": "2.7.6"
  }
 },
 "nbformat": 4,
 "nbformat_minor": 0
}