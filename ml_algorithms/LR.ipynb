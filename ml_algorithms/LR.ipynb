{
 "metadata": {
  "language_info": {
   "codemirror_mode": {
    "name": "ipython",
    "version": 3
   },
   "file_extension": ".py",
   "mimetype": "text/x-python",
   "name": "python",
   "nbconvert_exporter": "python",
   "pygments_lexer": "ipython3",
   "version": 3
  },
  "orig_nbformat": 2,
  "kernelspec": {
   "name": "python3",
   "language": "python",
   "display_name": "Python 3"
  }
 },
 "nbformat": 4,
 "nbformat_minor": 2,
 "cells": [
  {
   "cell_type": "markdown",
   "metadata": {},
   "source": [
    "## This notebook is about learning a Linear Regression model.\n",
    "\n",
    "### Algorithms from sk-learn\n",
    "Before writing up our own algorithms, it made sense to use the pre-existing algorithms from libraries such as sklearn.\n",
    "This provides us a baseline for the performance of LR on our dataset.\n",
    "\n",
    "### Preliminary Considerations\n",
    "There were many considerations to be made. The first regarding hyper-parameters and high-dimensional data.\n",
    "It was important to not overthink the first few steps so considerations with bias-variance and tweaking\n",
    "were considered later.\n"
   ]
  },
  {
   "cell_type": "code",
   "metadata": {
    "pycharm": {
     "name": "#%%\n"
    }
   },
   "source": [
    "import pandas as pd"
   ],
   "execution_count": null,
   "outputs": []
  },
  {
   "cell_type": "code",
   "execution_count": null,
   "outputs": [],
   "source": [
    "# Open Dataset\n",
    "data = pd.read_csv('dataset/GSMArena_dataset_2020.csv', index_col=0)\n",
    "\n",
    "# Some Insight\n",
    "data.info()\n",
    "data.head()\n"
   ],
   "metadata": {
    "collapsed": false,
    "pycharm": {
     "name": "#%%\n"
    },
    "tags": []
   }
  },
  {
   "cell_type": "markdown",
   "source": [
    "### Issues so far\n",
    "Before attempting to learn a regression model on the data, it is clear that there are some considerations to\n",
    "be made.\n",
    "\n",
    "Firstly, some rows have null values (N/A) and some features have categorical values.\n",
    "Here, we have decided to drop the categorical features, and subsequently drop all the null valued rows.\n"
   ],
   "metadata": {
    "collapsed": false,
    "pycharm": {
     "name": "#%% md\n"
    }
   }
  },
  {
   "cell_type": "code",
   "execution_count": null,
   "outputs": [],
   "source": [
    "# Load up data_cleaning script\n",
    "# noinspection PyUnresolvedReferences\n",
    "from auxiliary.data_clean2 import clean_data\n",
    "\n",
    "# Remove features that don't seem necessary at this stage, i.e. take all the other features.\n",
    "# NOTE: getting rid of 'main_camera_dual', 'comms_nfc', 'battery_charging', 'selfie_camera_video' as they seem to be conflicting/resulting in many null cols.\n",
    "data_features = data[[\"oem\", \"launch_announced\", \"launch_status\", \"body_dimensions\", \"display_size\", \"comms_wlan\", \"comms_usb\",\n",
    "                \"features_sensors\", \"platform_os\", \"platform_cpu\", \"platform_gpu\", \"memory_internal\",\n",
    "                \"main_camera_single\", \"main_camera_video\", \"misc_price\",\n",
    "                \"selfie_camera_video\",\n",
    "                \"selfie_camera_single\", \"battery\"]]\n",
    "\n",
    "# Clean up the data into a trainable form.\n",
    "df = clean_data(data_features)"
   ],
   "metadata": {
    "collapsed": false,
    "pycharm": {
     "name": "#%%\n"
    },
    "tags": []
   }
  },
  {
   "cell_type": "markdown",
   "source": [
    "### Preliminary plots\n",
    "\n",
    "Consider the correlation between certain features (numerical & categorical) and the classes."
   ],
   "metadata": {
    "collapsed": false,
    "pycharm": {
     "name": "#%% md\n"
    }
   }
  },
  {
   "cell_type": "code",
   "execution_count": null,
   "outputs": [],
   "source": [
    "import seaborn as sns\n",
    "import matplotlib.pyplot as plt\n",
    "\n",
    "# Correlation & heat map; For visuals & feature selection/validation\n",
    "\n",
    "# NOTE: OEM was used as the index;\n",
    "\n",
    "df.dropna(inplace=True)\n",
    "df.reset_index(drop=True)\n",
    "\n",
    "plt.figure(figsize=(20,20))\n",
    "sns.heatmap(df.corr())"
   ],
   "metadata": {
    "collapsed": false,
    "pycharm": {
     "name": "#%%\n"
    }
   }
  },
  {
   "cell_type": "markdown",
   "source": [
    "### Now that the data is the right format, it is now possible to train a simple LR model.\n",
    "\n",
    "We start off by investigating the performance of sk-learn's batch-learned LR models."
   ],
   "metadata": {
    "collapsed": false,
    "pycharm": {
     "name": "#%% md\n"
    }
   }
  },
  {
   "cell_type": "code",
   "execution_count": null,
   "outputs": [],
   "source": [
    "# Now its time to split the data\n",
    "from sklearn.model_selection import train_test_split\n",
    "\n",
    "y = df[\"misc_price\"]\n",
    "X = df.drop([\"key_index\", \"misc_price\"], axis=1)\n",
    "\n",
    "# Train & test split. Seed = 120 for reproducing same shuffling of indices.\n",
    "# Note 70-30 split for the preliminary split.\n",
    "X_train, X_test, y_train, y_test = train_test_split(X, y, random_state=120, test_size=.3)"
   ],
   "metadata": {
    "collapsed": false,
    "pycharm": {
     "name": "#%%\n"
    }
   }
  },
  {
   "cell_type": "code",
   "execution_count": null,
   "outputs": [],
   "source": [
    "from sklearn.linear_model import LinearRegression\n",
    "from sklearn.metrics import mean_squared_error, r2_score\n",
    "\n",
    "lr_model = LinearRegression()\n",
    "\n",
    "# Batch-train LR\n",
    "lr_model.fit(X_train, y_train)\n",
    "\n",
    "# Test the model & retreive predictions\n",
    "y_pred = lr_model.predict(X_test)\n",
    "\n",
    "# The coefficients\n",
    "print('Coefficients: \\n', lr_model.coef_)\n",
    "\n",
    "# The mean squared error\n",
    "print('Mean squared error: %.2f'\n",
    "      % mean_squared_error(y_test, y_pred))\n",
    "\n",
    "# The coefficient of determination: 1 is perfect prediction\n",
    "print('Coefficient of determination: %.2f'\n",
    "      % r2_score(y_test, y_pred))\n",
    "\n",
    "# plt.scatter(X_test, y_test, color='black')\n",
    "# plt.plot(X_test, y_pred, color='blue', linewidth=3)\n",
    "\n",
    "# plt.xticks()\n",
    "# plt.yticks()\n",
    "\n",
    "# plt.show()"
   ],
   "metadata": {
    "collapsed": false,
    "pycharm": {
     "name": "#%%\n"
    },
    "tags": []
   }
  },
  {
   "cell_type": "markdown",
   "source": [
    "### Performance of simple LR\n",
    "As can be seen, the preliminary performance is very poor. This raises some considerations with whether the data is too noisy or in the wrong form. It could also mean the function is significantly non-linear and our LR model would be a bad choice.\n",
    "\n",
    "### Plot of data & LR model\n",
    "We now try to visualize high-dimensional data & try specific combination-correlations, to gain some idea of the nature of the fit."
   ],
   "metadata": {
    "collapsed": false,
    "pycharm": {
     "name": "#%% md\n"
    }
   }
  },
  {
   "cell_type": "code",
   "execution_count": null,
   "outputs": [],
   "source": [
    "# plt\n",
    "\n",
    "# sns\n"
   ],
   "metadata": {
    "collapsed": false,
    "pycharm": {
     "name": "#%%\n"
    }
   }
  },
  {
   "cell_type": "markdown",
   "source": [
    "### Investigating Linear Regression in more detail\n",
    "Now we investigate LR in more depth by learning our own models and tweaking parameters, normalizing and comparing differences."
   ],
   "metadata": {
    "collapsed": false,
    "pycharm": {
     "name": "#%% md\n"
    }
   }
  },
  {
   "cell_type": "code",
   "execution_count": null,
   "outputs": [],
   "source": [
    "# Set up the function defs & ML algorithms\n"
   ],
   "metadata": {
    "collapsed": false,
    "pycharm": {
     "name": "#%%\n"
    }
   }
  },
  {
   "cell_type": "code",
   "execution_count": null,
   "outputs": [],
   "source": [
    "# Train our custom LR model\n",
    "\n",
    "\n",
    "# Test variance -> validation set accuracy\n",
    "\n",
    "\n",
    "# Perform 4-fold cross-validation on the datasets\n",
    "\n",
    "\n",
    "# Compile results into table"
   ],
   "metadata": {
    "collapsed": false,
    "pycharm": {
     "name": "#%%\n"
    }
   }
  },
  {
   "cell_type": "markdown",
   "source": [
    "### Plots & Analysis\n",
    "\n",
    "So far, our LR model has been trained and tested via cross-validation. We now visualize the scores and analyze the\n",
    "performance below."
   ],
   "metadata": {
    "collapsed": false,
    "pycharm": {
     "name": "#%% md\n"
    }
   }
  },
  {
   "cell_type": "code",
   "execution_count": null,
   "outputs": [],
   "source": [
    "# matplotlib\n",
    "\n",
    "\n",
    "# sns\n"
   ],
   "metadata": {
    "collapsed": false,
    "pycharm": {
     "name": "#%%\n"
    }
   }
  }
 ]
}